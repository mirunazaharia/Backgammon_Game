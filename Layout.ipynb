{
 "cells": [
  {
   "attachments": {
    "3551c0ac-b16b-4326-b909-2cd8b579fd49.png": {
     "image/png": "[encoded data removed]"
    }
   },
   "cell_type": "markdown",
   "id": "e415ecd1-6ec7-4e17-9481-2e3a3a85093a",
   "metadata": {},
   "source": [
    "Hello! I am planning on developing a Backammon game with an trained bot using machine learning techniques.\n",
    "\n",
    "The rules of the game: https://www.bkgm.com/rules.html\n",
    "\n",
    "Firstly, we need to create a representation of the board. It is defined as a matrix, where each row represent the points on the board and the columns represent the checkers are in that point.\n",
    "In a certain point there can be a maximum of 15 checkers.\n",
    "\n",
    "![image.png](attachment:3551c0ac-b16b-4326-b909-2cd8b579fd49.png)\n",
    "\n"
   ]
  },
  {
   "cell_type": "code",
   "execution_count": 4,
   "id": "4480941e-8760-41d5-bf75-34f92f8a6f5b",
   "metadata": {},
   "outputs": [],
   "source": [
    "# Libraries\n",
    "import numpy as np"
   ]
  },
  {
   "cell_type": "code",
   "execution_count": 85,
   "id": "29f2c1a2-e559-4805-87c3-a8c0282f455a",
   "metadata": {},
   "outputs": [
    {
     "name": "stdout",
     "output_type": "stream",
     "text": [
      "= = = = = = = = = = = = = = = \n",
      "| | 1          2    | | 2             1 | | \n",
      "| | 1          2    | | 2             1 | | \n",
      "| | 1          2    | | 2                | | \n",
      "| | 1                | | 2                | | \n",
      "| | 1                | | 2                | | \n",
      "| |                   | |                   | | \n",
      "| |                   | |                   | | \n",
      "| |                   | |                   | | \n",
      "| |                   | |                   | | \n",
      "| |                   | |                   | | \n",
      "| |                   | |                   | | \n",
      "| |                   | |                   | | \n",
      "| |                   | |                   | | \n",
      "| |                   | |                   | | \n",
      "| |                   | |                   | | \n",
      "| |                   | |                   | | \n",
      "| |                   | |                   | | \n",
      "| |                   | |                   | | \n",
      "| |                   | |                   | | \n",
      "| |                   | |                   | | \n",
      "| |                   | |                   | | \n",
      "| |                   | |                   | | \n",
      "| |                   | |                   | | \n",
      "| |                   | |                   | | \n",
      "| |                   | |                   | | \n",
      "| |                   | |                   | | \n",
      "| |                   | |                   | | \n",
      "| | 2                | | 1                | | \n",
      "| | 2                | | 1                | | \n",
      "| | 2          1    | | 1                | | \n",
      "| | 2          1    | | 1             2 | | \n",
      "| | 2          1    | | 1             2 | | \n",
      "= = = = = = = = = = = = = = = \n"
     ]
    }
   ],
   "source": [
    "#    Initial layout and  representation of the board\n",
    "board=np.zeros((24,15),'int')\n",
    "def  start_layout():\n",
    "    player=1\n",
    "    fivepos=np.concatenate((player*np.ones(5,'int'),np.zeros(10,'int')),axis=0)\n",
    "    twopos=np.concatenate((player*np.ones(2,'int'),np.zeros(13,'int')),axis=0)\n",
    "    threepos=np.concatenate((player*np.ones(3,'int'),np.zeros(12,'int')),axis=0)\n",
    "    board[5]=fivepos\n",
    "    board[7]=threepos\n",
    "    board[12]=fivepos\n",
    "    board[23]=twopos\n",
    "    \n",
    "    player=2\n",
    "    fivepos=np.concatenate((player*np.ones(5,'int'),np.zeros(10,'int')),axis=0)\n",
    "    twopos=np.concatenate((player*np.ones(2,'int'),np.zeros(13,'int')),axis=0)\n",
    "    threepos=np.concatenate((player*np.ones(3,'int'),np.zeros(12,'int')),axis=0)\n",
    "    board[-6]=fivepos\n",
    "    board[-8]=threepos\n",
    "    board[-13]=fivepos\n",
    "    board[0]=twopos\n",
    "def board_print(layout):\n",
    "    for i in range(1,16):\n",
    "        print('= ',end='')\n",
    "    print('\\n',end='')\n",
    "    for i in range(0,17):\n",
    "        for j in range(12,24):\n",
    "            if j==12:\n",
    "                print('| |',end=' ')\n",
    "            if(j==18):\n",
    "                  print('| |',end=' ')\n",
    "            if(i>14): \n",
    "                print('  ',end=' ')\n",
    "            else: \n",
    "                  char=np.transpose(board)[i][j]\n",
    "                  if(char==0):\n",
    "                    print('  ',end=' ')\n",
    "                  else:\n",
    "                    print(np.transpose(board)[i][j],end=' ')\n",
    "            if j==23:\n",
    "                print('| |',end=' ')\n",
    "        print('\\n',end='')\n",
    "    for i in range(14,-1,-1):\n",
    "        for j in range(11,-1,-1):\n",
    "            if(j==5):\n",
    "                  print('| |',end=' ')\n",
    "            if j==11:\n",
    "                print('| |',end=' ')\n",
    "           \n",
    "            char=np.transpose(board)[i][j]\n",
    "            if(char==0):\n",
    "                print('  ',end=' ')\n",
    "            else:\n",
    "                print(np.transpose(board)[i][j],end=' ')\n",
    "            if j==0:\n",
    "                print('| |',end=' ')\n",
    "        print('\\n',end='')\n",
    "    for i in range(1,16):\n",
    "        print('= ',end='')\n",
    "    print('\\n',end='')\n",
    "start_layout()\n",
    "board_print(board)"
   ]
  },
  {
   "cell_type": "code",
   "execution_count": null,
   "id": "911745fa-696d-43e1-9c9b-969a4bfc170c",
   "metadata": {},
   "outputs": [],
   "source": []
  }
 ],
 "metadata": {
  "kernelspec": {
   "display_name": "Python 3 (ipykernel)",
   "language": "python",
   "name": "python3"
  },
  "language_info": {
   "codemirror_mode": {
    "name": "ipython",
    "version": 3
   },
   "file_extension": ".py",
   "mimetype": "text/x-python",
   "name": "python",
   "nbconvert_exporter": "python",
   "pygments_lexer": "ipython3",
   "version": "3.12.4"
  }
 },
 "nbformat": 4,
 "nbformat_minor": 5
}
